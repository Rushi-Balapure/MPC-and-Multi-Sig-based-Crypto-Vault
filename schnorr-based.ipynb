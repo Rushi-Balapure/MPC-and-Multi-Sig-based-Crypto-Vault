{
 "cells": [
  {
   "cell_type": "code",
   "execution_count": 1,
   "id": "ca19eccd-eaec-4e21-bd14-2e64da17c109",
   "metadata": {},
   "outputs": [
    {
     "name": "stdout",
     "output_type": "stream",
     "text": [
      "Collecting ecdsa\n",
      "  Downloading ecdsa-0.19.0-py2.py3-none-any.whl.metadata (29 kB)\n",
      "Requirement already satisfied: six>=1.9.0 in c:\\users\\hp\\appdata\\local\\programs\\python\\python312\\lib\\site-packages (from ecdsa) (1.16.0)\n",
      "Downloading ecdsa-0.19.0-py2.py3-none-any.whl (149 kB)\n",
      "   ---------------------------------------- 0.0/149.3 kB ? eta -:--:--\n",
      "   -------- ------------------------------- 30.7/149.3 kB 1.4 MB/s eta 0:00:01\n",
      "   ---------------- ---------------------- 61.4/149.3 kB 825.8 kB/s eta 0:00:01\n",
      "   -------------------------------- ------- 122.9/149.3 kB 1.0 MB/s eta 0:00:01\n",
      "   -------------------------------------- 149.3/149.3 kB 813.0 kB/s eta 0:00:00\n",
      "Installing collected packages: ecdsa\n",
      "Successfully installed ecdsa-0.19.0\n"
     ]
    },
    {
     "name": "stderr",
     "output_type": "stream",
     "text": [
      "\n",
      "[notice] A new release of pip is available: 24.0 -> 24.3.1\n",
      "[notice] To update, run: python.exe -m pip install --upgrade pip\n"
     ]
    }
   ],
   "source": [
    "!pip install ecdsa\n"
   ]
  },
  {
   "cell_type": "code",
   "execution_count": 2,
   "id": "28ed0ade-0ada-4941-a7be-5ca7f521db48",
   "metadata": {},
   "outputs": [
    {
     "name": "stdout",
     "output_type": "stream",
     "text": [
      "Signature is valid!\n"
     ]
    }
   ],
   "source": [
    "import secrets\n",
    "from ecdsa import SECP256k1, ellipticcurve, numbertheory\n",
    "from hashlib import sha256\n",
    "curve = SECP256k1\n",
    "G = curve.generator\n",
    "order = curve.order\n",
    "def sha256_hash(data):\n",
    "    return int.from_bytes(sha256(data).digest(), 'big')\n",
    "private_key_party1 = secrets.randbelow(order)\n",
    "private_key_party2 = secrets.randbelow(order)\n",
    "\n",
    "public_key_party1 = private_key_party1 * G\n",
    "public_key_party2 = private_key_party2 * G\n",
    "combined_public_key = public_key_party1 + public_key_party2\n",
    "\n",
    "nonce_party1 = secrets.randbelow(order)\n",
    "nonce_party2 = secrets.randbelow(order)\n",
    "\n",
    "R_party1 = nonce_party1 * G\n",
    "R_party2 = nonce_party2 * G\n",
    "\n",
    "R_combined = R_party1 + R_party2\n",
    "\n",
    "message = b\"Secure transaction to the crypto vault\"\n",
    "e = sha256_hash(R_combined.to_bytes() + combined_public_key.to_bytes() + message) % order\n",
    "\n",
    "partial_signature_party1 = (nonce_party1 + e * private_key_party1) % order\n",
    "partial_signature_party2 = (nonce_party2 + e * private_key_party2) % order\n",
    "\n",
    "s_combined = (partial_signature_party1 + partial_signature_party2) % order\n",
    "signature = (R_combined, s_combined)\n",
    "\n",
    "e_verification = sha256_hash(R_combined.to_bytes() + combined_public_key.to_bytes() + message) % order\n",
    "\n",
    "left_hand_side = s_combined * G\n",
    "right_hand_side = R_combined + e_verification * combined_public_key\n",
    "\n",
    "if left_hand_side == right_hand_side:\n",
    "    print(\"Signature is valid!\")\n",
    "else:\n",
    "    print(\"Signature is invalid!\")\n"
   ]
  },
  {
   "cell_type": "code",
   "execution_count": null,
   "id": "06a96de1-34d6-417b-ae74-0a303b053bd0",
   "metadata": {},
   "outputs": [],
   "source": [
    " "
   ]
  }
 ],
 "metadata": {
  "kernelspec": {
   "display_name": "Python 3 (ipykernel)",
   "language": "python",
   "name": "python3"
  },
  "language_info": {
   "codemirror_mode": {
    "name": "ipython",
    "version": 3
   },
   "file_extension": ".py",
   "mimetype": "text/x-python",
   "name": "python",
   "nbconvert_exporter": "python",
   "pygments_lexer": "ipython3",
   "version": "3.12.3"
  }
 },
 "nbformat": 4,
 "nbformat_minor": 5
}
